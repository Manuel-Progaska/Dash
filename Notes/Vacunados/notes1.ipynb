{
 "cells": [
  {
   "cell_type": "markdown",
   "source": [
    "**Crea un dashboard de vacunados con Dash**\n",
    "\n",
    "https://www.youtube.com/watch?v=mI1NYF1dbLU"
   ],
   "metadata": {}
  },
  {
   "cell_type": "code",
   "execution_count": null,
   "source": [],
   "outputs": [],
   "metadata": {}
  }
 ],
 "metadata": {
  "orig_nbformat": 4,
  "language_info": {
   "name": "python"
  }
 },
 "nbformat": 4,
 "nbformat_minor": 2
}